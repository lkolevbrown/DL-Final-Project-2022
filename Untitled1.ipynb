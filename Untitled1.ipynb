{
 "cells": [
  {
   "cell_type": "code",
   "execution_count": 1,
   "id": "85ea39b7",
   "metadata": {
    "scrolled": true
   },
   "outputs": [
    {
     "name": "stdout",
     "output_type": "stream",
     "text": [
      "Init Plugin\n",
      "Init Graph Optimizer\n",
      "Init Kernel\n"
     ]
    },
    {
     "ename": "IndentationError",
     "evalue": "expected an indented block (custom_layers.py, line 212)",
     "output_type": "error",
     "traceback": [
      "Traceback \u001b[0;36m(most recent call last)\u001b[0m:\n",
      "  File \u001b[1;32m/opt/homebrew/Caskroom/miniforge/base/envs/tensorflow/lib/python3.9/site-packages/IPython/core/interactiveshell.py:3251\u001b[0m in \u001b[1;35mrun_code\u001b[0m\n    exec(code_obj, self.user_global_ns, self.user_ns)\n",
      "  Input \u001b[1;32mIn [1]\u001b[0m in \u001b[1;35m<module>\u001b[0m\n    from builder_utils import *\n",
      "\u001b[0;36m  File \u001b[0;32m~/Documents/Brown Notes/CS1470/Final Project/DL-Final-Project-2022/builder_utils.py:12\u001b[0;36m in \u001b[0;35m<module>\u001b[0;36m\u001b[0m\n\u001b[0;31m    from layers.custom_layers import Diagonal, SparseTF\u001b[0m\n",
      "\u001b[0;36m  File \u001b[0;32m~/Documents/Brown Notes/CS1470/Final Project/DL-Final-Project-2022/layers/custom_layers.py:212\u001b[0;36m\u001b[0m\n\u001b[0;31m    from scipy.sparse import csr_matrix\u001b[0m\n\u001b[0m                                       ^\u001b[0m\n\u001b[0;31mIndentationError\u001b[0m\u001b[0;31m:\u001b[0m expected an indented block\n"
     ]
    }
   ],
   "source": [
    "from builder_utils import *\n",
    "from data_reader import load_data\n",
    "import tensorflow as tf"
   ]
  },
  {
   "cell_type": "code",
   "execution_count": null,
   "id": "3665f2f8",
   "metadata": {},
   "outputs": [],
   "source": [
    "x, response, samples, cols = load_data('P1000_final_analysis_set_cross_hotspots.csv')"
   ]
  },
  {
   "cell_type": "code",
   "execution_count": null,
   "id": "dde2c4eb",
   "metadata": {},
   "outputs": [],
   "source": [
    "response.shape"
   ]
  },
  {
   "cell_type": "code",
   "execution_count": null,
   "id": "aa083d64",
   "metadata": {
    "scrolled": true
   },
   "outputs": [],
   "source": [
    "pnet = PNet(cols, cols, 'root_to_leaf', 'tanh', 'sigmoid', [0.001] * 7, [0.01] * 6, 0, True, False, 'lecun_uniform')"
   ]
  },
  {
   "cell_type": "code",
   "execution_count": null,
   "id": "cc8af9b4",
   "metadata": {},
   "outputs": [],
   "source": [
    "outcome, decision_outcome = pnet(tf.convert_to_tensor(x))"
   ]
  },
  {
   "cell_type": "code",
   "execution_count": null,
   "id": "2f12004b",
   "metadata": {},
   "outputs": [],
   "source": [
    "outcome"
   ]
  },
  {
   "cell_type": "code",
   "execution_count": null,
   "id": "bccdf828",
   "metadata": {},
   "outputs": [],
   "source": [
    "decision_outcome"
   ]
  }
 ],
 "metadata": {
  "kernelspec": {
   "display_name": "Python 3 (ipykernel)",
   "language": "python",
   "name": "python3"
  },
  "language_info": {
   "codemirror_mode": {
    "name": "ipython",
    "version": 3
   },
   "file_extension": ".py",
   "mimetype": "text/x-python",
   "name": "python",
   "nbconvert_exporter": "python",
   "pygments_lexer": "ipython3",
   "version": "3.9.10"
  }
 },
 "nbformat": 4,
 "nbformat_minor": 5
}
