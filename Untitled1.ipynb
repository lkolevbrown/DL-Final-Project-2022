{
 "cells": [
  {
   "cell_type": "code",
   "execution_count": 20,
   "id": "d28bd557",
   "metadata": {},
   "outputs": [],
   "source": [
    "import tensorflow as tf"
   ]
  },
  {
   "cell_type": "code",
   "execution_count": 24,
   "id": "f1e8518c",
   "metadata": {},
   "outputs": [],
   "source": [
    "from builder_utils import *"
   ]
  },
  {
   "cell_type": "code",
   "execution_count": 27,
   "id": "30698feb",
   "metadata": {},
   "outputs": [
    {
     "ename": "TypeError",
     "evalue": "get_pnet() missing 14 required positional arguments: 'inputs', 'features', 'genes', 'n_hidden_layers', 'direction', 'activation', 'activation_decision', 'w_reg', 'w_reg_outcomes', 'dropout', 'sparse', 'add_unk_genes', 'batch_normal', and 'kernel_initializer'",
     "output_type": "error",
     "traceback": [
      "\u001b[0;31m---------------------------------------------------------------------------\u001b[0m",
      "\u001b[0;31mTypeError\u001b[0m                                 Traceback (most recent call last)",
      "Input \u001b[0;32mIn [27]\u001b[0m, in \u001b[0;36m<module>\u001b[0;34m\u001b[0m\n\u001b[0;32m----> 1\u001b[0m \u001b[43mget_pnet\u001b[49m\u001b[43m(\u001b[49m\u001b[43m)\u001b[49m\n",
      "\u001b[0;31mTypeError\u001b[0m: get_pnet() missing 14 required positional arguments: 'inputs', 'features', 'genes', 'n_hidden_layers', 'direction', 'activation', 'activation_decision', 'w_reg', 'w_reg_outcomes', 'dropout', 'sparse', 'add_unk_genes', 'batch_normal', and 'kernel_initializer'"
     ]
    }
   ],
   "source": [
    "get_pnet()"
   ]
  }
 ],
 "metadata": {
  "kernelspec": {
   "display_name": "Python 3 (ipykernel)",
   "language": "python",
   "name": "python3"
  },
  "language_info": {
   "codemirror_mode": {
    "name": "ipython",
    "version": 3
   },
   "file_extension": ".py",
   "mimetype": "text/x-python",
   "name": "python",
   "nbconvert_exporter": "python",
   "pygments_lexer": "ipython3",
   "version": "3.9.10"
  }
 },
 "nbformat": 4,
 "nbformat_minor": 5
}
