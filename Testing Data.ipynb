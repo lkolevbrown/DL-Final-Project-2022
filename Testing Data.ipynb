{
 "cells": [
  {
   "cell_type": "code",
   "execution_count": 1,
   "id": "74e52407",
   "metadata": {},
   "outputs": [],
   "source": [
    "import argparse\n",
    "import math\n",
    "import numpy as np\n",
    "import os\n",
    "import random\n",
    "import tensorflow as tf\n",
    "import tensorflow_addons as tfa\n",
    "from tensorflow.math import sigmoid\n",
    "from tqdm import tqdm\n",
    "from data_reader import *\n",
    "from dense import *"
   ]
  },
  {
   "cell_type": "code",
   "execution_count": 2,
   "id": "e3413735",
   "metadata": {},
   "outputs": [],
   "source": [
    "paperData = ProstateDataPaper(data_type='mut_important')"
   ]
  },
  {
   "cell_type": "code",
   "execution_count": 3,
   "id": "2e0e4753",
   "metadata": {},
   "outputs": [],
   "source": [
    "x, y, info, col = paperData.get_data()"
   ]
  },
  {
   "cell_type": "code",
   "execution_count": 5,
   "id": "17791613",
   "metadata": {},
   "outputs": [],
   "source": [
    "x_train, x_test, y_train, y_test, info_train, info_test, columns = paperData.get_train_validate_test()"
   ]
  },
  {
   "cell_type": "code",
   "execution_count": 6,
   "id": "33eea8a6",
   "metadata": {
    "scrolled": true
   },
   "outputs": [
    {
     "data": {
      "text/plain": [
       "(909, 14378)"
      ]
     },
     "execution_count": 6,
     "metadata": {},
     "output_type": "execute_result"
    }
   ],
   "source": [
    "x_train.shape"
   ]
  }
 ],
 "metadata": {
  "kernelspec": {
   "display_name": "Python 3.9 (tensorflow)",
   "language": "python",
   "name": "tensorflow"
  },
  "language_info": {
   "codemirror_mode": {
    "name": "ipython",
    "version": 3
   },
   "file_extension": ".py",
   "mimetype": "text/x-python",
   "name": "python",
   "nbconvert_exporter": "python",
   "pygments_lexer": "ipython3",
   "version": "3.9.10"
  }
 },
 "nbformat": 4,
 "nbformat_minor": 5
}
