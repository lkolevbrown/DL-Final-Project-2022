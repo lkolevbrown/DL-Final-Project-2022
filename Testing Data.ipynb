{
 "cells": [
  {
   "cell_type": "code",
   "execution_count": 1,
   "id": "74e52407",
   "metadata": {},
   "outputs": [
    {
     "name": "stdout",
     "output_type": "stream",
     "text": [
      "Init Plugin\n",
      "Init Graph Optimizer\n",
      "Init Kernel\n"
     ]
    },
    {
     "name": "stderr",
     "output_type": "stream",
     "text": [
      "/opt/homebrew/Caskroom/miniforge/base/envs/tensorflow/lib/python3.9/site-packages/tensorflow_addons/utils/ensure_tf_install.py:53: UserWarning: Tensorflow Addons supports using Python ops for all Tensorflow versions above or equal to 2.6.0 and strictly below 2.9.0 (nightly versions are not supported). \n",
      " The versions of TensorFlow you are currently using is 2.5.0 and is not supported. \n",
      "Some things might work, some things might not.\n",
      "If you were to encounter a bug, do not file an issue.\n",
      "If you want to make sure you're using a tested and supported configuration, either change the TensorFlow version or the TensorFlow Addons's version. \n",
      "You can find the compatibility matrix in TensorFlow Addon's readme:\n",
      "https://github.com/tensorflow/addons\n",
      "  warnings.warn(\n"
     ]
    }
   ],
   "source": [
    "import argparse\n",
    "import math\n",
    "import numpy as np\n",
    "import os\n",
    "import random\n",
    "import tensorflow as tf\n",
    "import tensorflow_addons as tfa\n",
    "from tensorflow.math import sigmoid\n",
    "from tqdm import tqdm\n",
    "from builder_utils import *\n",
    "from data_reader import *\n",
    "import tensorflow as tf\n",
    "from dense import *"
   ]
  },
  {
   "cell_type": "code",
   "execution_count": 3,
   "id": "e3413735",
   "metadata": {},
   "outputs": [],
   "source": [
    "paperData = ProstateDataPaper(data_type='mut_important')"
   ]
  },
  {
   "cell_type": "code",
   "execution_count": 5,
   "id": "2e0e4753",
   "metadata": {},
   "outputs": [],
   "source": [
    "x, y, info, col = paperData.get_data()"
   ]
  },
  {
   "cell_type": "code",
   "execution_count": 6,
   "id": "17791613",
   "metadata": {},
   "outputs": [],
   "source": [
    "x_train, x_validate, x_test, y_train, y_validate, y_test, info_train, info_validate, info_test, columns = paperData.get_train_validate_test()"
   ]
  },
  {
   "cell_type": "code",
   "execution_count": 8,
   "id": "33eea8a6",
   "metadata": {
    "scrolled": true
   },
   "outputs": [
    {
     "data": {
      "text/plain": [
       "807"
      ]
     },
     "execution_count": 8,
     "metadata": {},
     "output_type": "execute_result"
    }
   ],
   "source": [
    "len(x_train)"
   ]
  },
  {
   "cell_type": "code",
   "execution_count": null,
   "id": "07433f48",
   "metadata": {},
   "outputs": [],
   "source": []
  }
 ],
 "metadata": {
  "kernelspec": {
   "display_name": "Python 3.9 (tensorflow)",
   "language": "python",
   "name": "tensorflow"
  },
  "language_info": {
   "codemirror_mode": {
    "name": "ipython",
    "version": 3
   },
   "file_extension": ".py",
   "mimetype": "text/x-python",
   "name": "python",
   "nbconvert_exporter": "python",
   "pygments_lexer": "ipython3",
   "version": "3.9.10"
  }
 },
 "nbformat": 4,
 "nbformat_minor": 5
}
