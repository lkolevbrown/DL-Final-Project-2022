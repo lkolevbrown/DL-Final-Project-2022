{
 "cells": [
  {
   "cell_type": "code",
   "execution_count": 1,
   "id": "9d91a9a6",
   "metadata": {},
   "outputs": [],
   "source": [
    "import numpy as np\n",
    "import tensorflow as tf\n",
    "import pandas as pd"
   ]
  },
  {
   "cell_type": "code",
   "execution_count": 2,
   "id": "cbf08eb8",
   "metadata": {},
   "outputs": [],
   "source": [
    "from data_reader import *"
   ]
  },
  {
   "cell_type": "code",
   "execution_count": 3,
   "id": "af4824ff",
   "metadata": {},
   "outputs": [],
   "source": [
    "from dense import *"
   ]
  },
  {
   "cell_type": "code",
   "execution_count": 4,
   "id": "acc00b49",
   "metadata": {},
   "outputs": [],
   "source": [
    "paperData = ProstateDataPaper(data_type='mut_important')\n",
    "x_train, x_validate, x_test, y_train, y_validate, y_test, info_train, info_validate, info_test, cols = paperData.get_train_validate_test()"
   ]
  },
  {
   "cell_type": "code",
   "execution_count": 5,
   "id": "09dbfa77",
   "metadata": {},
   "outputs": [
    {
     "name": "stdout",
     "output_type": "stream",
     "text": [
      "Metal device set to: Apple M1 Pro\n"
     ]
    },
    {
     "name": "stderr",
     "output_type": "stream",
     "text": [
      "2022-05-10 20:31:11.883981: I tensorflow/core/common_runtime/pluggable_device/pluggable_device_factory.cc:305] Could not identify NUMA node of platform GPU ID 0, defaulting to 0. Your kernel may not have been built with NUMA support.\n",
      "2022-05-10 20:31:11.884074: I tensorflow/core/common_runtime/pluggable_device/pluggable_device_factory.cc:271] Created TensorFlow device (/job:localhost/replica:0/task:0/device:GPU:0 with 0 MB memory) -> physical PluggableDevice (device: 0, name: METAL, pci bus id: <undefined>)\n"
     ]
    }
   ],
   "source": [
    "model = Dense(len(cols))"
   ]
  },
  {
   "cell_type": "code",
   "execution_count": 6,
   "id": "0af92275",
   "metadata": {},
   "outputs": [
    {
     "data": {
      "text/plain": [
       "<tf.Tensor: shape=(807, 2), dtype=float32, numpy=\n",
       "array([[0.52383703, 0.4761629 ],\n",
       "       [0.5152404 , 0.4847596 ],\n",
       "       [0.4484422 , 0.5515578 ],\n",
       "       ...,\n",
       "       [0.44914666, 0.5508534 ],\n",
       "       [0.4993157 , 0.50068426],\n",
       "       [0.51323235, 0.48676765]], dtype=float32)>"
      ]
     },
     "execution_count": 6,
     "metadata": {},
     "output_type": "execute_result"
    }
   ],
   "source": [
    "model(x_train)"
   ]
  }
 ],
 "metadata": {
  "kernelspec": {
   "display_name": "Python 3.9 (tensorflow)",
   "language": "python",
   "name": "tensorflow"
  },
  "language_info": {
   "codemirror_mode": {
    "name": "ipython",
    "version": 3
   },
   "file_extension": ".py",
   "mimetype": "text/x-python",
   "name": "python",
   "nbconvert_exporter": "python",
   "pygments_lexer": "ipython3",
   "version": "3.9.10"
  }
 },
 "nbformat": 4,
 "nbformat_minor": 5
}
