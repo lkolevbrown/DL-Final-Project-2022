{
 "cells": [
  {
   "cell_type": "code",
   "execution_count": 2,
   "id": "e142c027",
   "metadata": {},
   "outputs": [
    {
     "name": "stdout",
     "output_type": "stream",
     "text": [
      "Init Plugin\n",
      "Init Graph Optimizer\n",
      "Init Kernel\n"
     ]
    }
   ],
   "source": [
    "import itertools\n",
    "import logging\n",
    "\n",
    "import numpy as np\n",
    "import pandas as pd\n",
    "from keras.layers import Dense, Dropout, Activation, BatchNormalization, multiply\n",
    "from keras.regularizers import l2\n",
    "\n",
    "# from data.pathways.pathway_loader import get_pathway_files\n",
    "from data.pathways.reactome import ReactomeNetwork\n",
    "from model.layers_custom import Diagonal, SparseTF"
   ]
  },
  {
   "cell_type": "code",
   "execution_count": 3,
   "id": "4ed57a9f",
   "metadata": {},
   "outputs": [],
   "source": [
    "from reactome import *"
   ]
  },
  {
   "cell_type": "code",
   "execution_count": 6,
   "id": "55aa12a2",
   "metadata": {},
   "outputs": [],
   "source": [
    "reactNet = ReactomeNetwork()"
   ]
  },
  {
   "cell_type": "code",
   "execution_count": 7,
   "id": "64676104",
   "metadata": {},
   "outputs": [
    {
     "data": {
      "text/plain": [
       "<networkx.classes.digraph.DiGraph at 0x17e01edf0>"
      ]
     },
     "execution_count": 7,
     "metadata": {},
     "output_type": "execute_result"
    }
   ],
   "source": [
    "reactNet.netx"
   ]
  }
 ],
 "metadata": {
  "kernelspec": {
   "display_name": "Python 3 (ipykernel)",
   "language": "python",
   "name": "python3"
  },
  "language_info": {
   "codemirror_mode": {
    "name": "ipython",
    "version": 3
   },
   "file_extension": ".py",
   "mimetype": "text/x-python",
   "name": "python",
   "nbconvert_exporter": "python",
   "pygments_lexer": "ipython3",
   "version": "3.9.10"
  }
 },
 "nbformat": 4,
 "nbformat_minor": 5
}
