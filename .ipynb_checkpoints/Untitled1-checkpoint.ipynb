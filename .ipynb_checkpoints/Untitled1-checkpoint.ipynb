{
 "cells": [
  {
   "cell_type": "code",
   "execution_count": 9,
   "id": "85ea39b7",
   "metadata": {},
   "outputs": [],
   "source": [
    "from builder_utils import *"
   ]
  },
  {
   "cell_type": "code",
   "execution_count": 10,
   "id": "aa083d64",
   "metadata": {},
   "outputs": [
    {
     "ename": "TypeError",
     "evalue": "__init__() missing 12 required positional arguments: 'features', 'genes', 'direction', 'activation', 'activation_decision', 'w_reg', 'w_reg_outcomes', 'dropout', 'sparse', 'add_unk_genes', 'batch_normal', and 'kernel_initializer'",
     "output_type": "error",
     "traceback": [
      "\u001b[0;31m---------------------------------------------------------------------------\u001b[0m",
      "\u001b[0;31mTypeError\u001b[0m                                 Traceback (most recent call last)",
      "Input \u001b[0;32mIn [10]\u001b[0m, in \u001b[0;36m<module>\u001b[0;34m\u001b[0m\n\u001b[0;32m----> 1\u001b[0m pnet \u001b[38;5;241m=\u001b[39m \u001b[43mPNet\u001b[49m\u001b[43m(\u001b[49m\u001b[43m)\u001b[49m\n",
      "\u001b[0;31mTypeError\u001b[0m: __init__() missing 12 required positional arguments: 'features', 'genes', 'direction', 'activation', 'activation_decision', 'w_reg', 'w_reg_outcomes', 'dropout', 'sparse', 'add_unk_genes', 'batch_normal', and 'kernel_initializer'"
     ]
    }
   ],
   "source": [
    "pnet = PNet([], [], 'root_to_leaf', 'tanh', 'sigmoid')"
   ]
  }
 ],
 "metadata": {
  "kernelspec": {
   "display_name": "Python 3 (ipykernel)",
   "language": "python",
   "name": "python3"
  },
  "language_info": {
   "codemirror_mode": {
    "name": "ipython",
    "version": 3
   },
   "file_extension": ".py",
   "mimetype": "text/x-python",
   "name": "python",
   "nbconvert_exporter": "python",
   "pygments_lexer": "ipython3",
   "version": "3.9.10"
  }
 },
 "nbformat": 4,
 "nbformat_minor": 5
}
