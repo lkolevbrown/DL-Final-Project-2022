{
 "cells": [
  {
   "cell_type": "code",
   "execution_count": 1,
   "id": "85ea39b7",
   "metadata": {
    "scrolled": true
   },
   "outputs": [
    {
     "name": "stdout",
     "output_type": "stream",
     "text": [
      "Init Plugin\n",
      "Init Graph Optimizer\n",
      "Init Kernel\n"
     ]
    }
   ],
   "source": [
    "from builder_utils import *\n",
    "from data_reader import load_data\n",
    "import tensorflow as tf"
   ]
  },
  {
   "cell_type": "code",
   "execution_count": 2,
   "id": "3361a584",
   "metadata": {},
   "outputs": [],
   "source": [
    "x, response, samples, cols = load_data('P1000_final_analysis_set_cross_hotspots.csv')"
   ]
  },
  {
   "cell_type": "code",
   "execution_count": 3,
   "id": "e6346a18",
   "metadata": {},
   "outputs": [
    {
     "data": {
      "text/plain": [
       "(364,)"
      ]
     },
     "execution_count": 3,
     "metadata": {},
     "output_type": "execute_result"
    }
   ],
   "source": [
    "response.shape"
   ]
  },
  {
   "cell_type": "code",
   "execution_count": 4,
   "id": "aa083d64",
   "metadata": {
    "scrolled": true
   },
   "outputs": [
    {
     "name": "stdout",
     "output_type": "stream",
     "text": [
      "Metal device set to: Apple M1 Pro\n"
     ]
    },
    {
     "name": "stderr",
     "output_type": "stream",
     "text": [
      "2022-05-04 01:46:24.353279: I tensorflow/core/common_runtime/pluggable_device/pluggable_device_factory.cc:305] Could not identify NUMA node of platform GPU ID 0, defaulting to 0. Your kernel may not have been built with NUMA support.\n",
      "2022-05-04 01:46:24.353466: I tensorflow/core/common_runtime/pluggable_device/pluggable_device_factory.cc:271] Created TensorFlow device (/job:localhost/replica:0/task:0/device:GPU:0 with 0 MB memory) -> physical PluggableDevice (device: 0, name: METAL, pci bus id: <undefined>)\n"
     ]
    },
    {
     "name": "stdout",
     "output_type": "stream",
     "text": [
      "layer # 0\n",
      "pathways 1387\n",
      "genes 9275\n",
      "filtered_map (54, 0)\n",
      "filtered_map (54, 0)\n",
      "filtered_map (54, 0)\n",
      "layer # 1\n",
      "pathways 1066\n",
      "genes 1399\n",
      "filtered_map (1387, 0)\n",
      "filtered_map (1387, 0)\n",
      "filtered_map (1387, 0)\n",
      "layer # 2\n",
      "pathways 447\n",
      "genes 1068\n",
      "filtered_map (1066, 0)\n",
      "filtered_map (1066, 0)\n",
      "filtered_map (1066, 0)\n",
      "layer # 3\n",
      "pathways 147\n",
      "genes 448\n",
      "filtered_map (447, 0)\n",
      "filtered_map (447, 0)\n",
      "filtered_map (447, 0)\n",
      "layer # 4\n",
      "pathways 26\n",
      "genes 147\n",
      "filtered_map (147, 0)\n",
      "filtered_map (147, 0)\n",
      "filtered_map (147, 0)\n",
      "layer # 5\n",
      "pathways 1\n",
      "genes 26\n",
      "filtered_map (26, 0)\n",
      "filtered_map (26, 0)\n",
      "filtered_map (26, 0)\n"
     ]
    }
   ],
   "source": [
    "pnet = PNet(cols, cols, 'root_to_leaf', 'tanh', 'sigmoid', 0, True, False, 'lecun_uniform')"
   ]
  },
  {
   "cell_type": "code",
   "execution_count": 5,
   "id": "4be8d3a0",
   "metadata": {},
   "outputs": [
    {
     "name": "stdout",
     "output_type": "stream",
     "text": [
      "input dimension 54 self.units 54\n",
      "n_inputs_per_node 1\n",
      "self.kernel_initializer <tensorflow.python.keras.initializers.initializers_v2.LecunUniform object at 0x29135b7c0>\n",
      "input dimensions (364, 54)\n"
     ]
    }
   ],
   "source": [
    "outcome, decision_outcome = pnet(tf.convert_to_tensor(x))"
   ]
  },
  {
   "cell_type": "code",
   "execution_count": 6,
   "id": "e60fc05c",
   "metadata": {},
   "outputs": [
    {
     "data": {
      "text/plain": [
       "<tf.Tensor: shape=(364, 26), dtype=float32, numpy=\n",
       "array([[0., 0., 0., ..., 0., 0., 0.],\n",
       "       [0., 0., 0., ..., 0., 0., 0.],\n",
       "       [0., 0., 0., ..., 0., 0., 0.],\n",
       "       ...,\n",
       "       [0., 0., 0., ..., 0., 0., 0.],\n",
       "       [0., 0., 0., ..., 0., 0., 0.],\n",
       "       [0., 0., 0., ..., 0., 0., 0.]], dtype=float32)>"
      ]
     },
     "execution_count": 6,
     "metadata": {},
     "output_type": "execute_result"
    }
   ],
   "source": [
    "outcome"
   ]
  },
  {
   "cell_type": "code",
   "execution_count": 7,
   "id": "038d5b0b",
   "metadata": {
    "scrolled": false
   },
   "outputs": [
    {
     "data": {
      "text/plain": [
       "6"
      ]
     },
     "execution_count": 7,
     "metadata": {},
     "output_type": "execute_result"
    }
   ],
   "source": [
    "len(decision_outcome)"
   ]
  },
  {
   "cell_type": "code",
   "execution_count": 8,
   "id": "6d6dff33",
   "metadata": {},
   "outputs": [
    {
     "name": "stderr",
     "output_type": "stream",
     "text": [
      "100%|████████████████████████████████████████████| 6/6 [00:00<00:00, 146.36it/s]\n"
     ]
    }
   ],
   "source": [
    "a = pnet.loss(decision_outcome, response)"
   ]
  },
  {
   "cell_type": "code",
   "execution_count": 9,
   "id": "273e5c8c",
   "metadata": {},
   "outputs": [
    {
     "data": {
      "text/plain": [
       "<tf.Tensor: shape=(), dtype=float32, numpy=441.28687>"
      ]
     },
     "execution_count": 9,
     "metadata": {},
     "output_type": "execute_result"
    }
   ],
   "source": [
    "a"
   ]
  }
 ],
 "metadata": {
  "kernelspec": {
   "display_name": "Python 3 (ipykernel)",
   "language": "python",
   "name": "python3"
  },
  "language_info": {
   "codemirror_mode": {
    "name": "ipython",
    "version": 3
   },
   "file_extension": ".py",
   "mimetype": "text/x-python",
   "name": "python",
   "nbconvert_exporter": "python",
   "pygments_lexer": "ipython3",
   "version": "3.9.10"
  }
 },
 "nbformat": 4,
 "nbformat_minor": 5
}
