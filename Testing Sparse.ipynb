{
 "cells": [
  {
   "cell_type": "code",
   "execution_count": 1,
   "id": "85ea39b7",
   "metadata": {
    "scrolled": true
   },
   "outputs": [
    {
     "name": "stdout",
     "output_type": "stream",
     "text": [
      "Init Plugin\n",
      "Init Graph Optimizer\n",
      "Init Kernel\n"
     ]
    }
   ],
   "source": [
    "from builder_utils import *\n",
    "from data_reader import load_data\n",
    "import tensorflow as tf"
   ]
  },
  {
   "cell_type": "code",
   "execution_count": 2,
   "id": "3361a584",
   "metadata": {},
   "outputs": [],
   "source": [
    "x, response, samples, cols = load_data('P1000_final_analysis_set_cross_hotspots.csv')"
   ]
  },
  {
   "cell_type": "code",
   "execution_count": 15,
   "id": "caaf0eb7",
   "metadata": {},
   "outputs": [
    {
     "data": {
      "text/html": [
       "<div>\n",
       "<style scoped>\n",
       "    .dataframe tbody tr th:only-of-type {\n",
       "        vertical-align: middle;\n",
       "    }\n",
       "\n",
       "    .dataframe tbody tr th {\n",
       "        vertical-align: top;\n",
       "    }\n",
       "\n",
       "    .dataframe thead th {\n",
       "        text-align: right;\n",
       "    }\n",
       "</style>\n",
       "<table border=\"1\" class=\"dataframe\">\n",
       "  <thead>\n",
       "    <tr style=\"text-align: right;\">\n",
       "      <th></th>\n",
       "      <th>AKT1</th>\n",
       "      <th>ANKRD11</th>\n",
       "      <th>ARID1A</th>\n",
       "      <th>ATM</th>\n",
       "      <th>BRAF</th>\n",
       "      <th>CARD11</th>\n",
       "      <th>CDKN1B</th>\n",
       "      <th>CDKN2A</th>\n",
       "      <th>CIC</th>\n",
       "      <th>CTNNB1</th>\n",
       "      <th>...</th>\n",
       "      <th>SF3B1</th>\n",
       "      <th>SMAD4</th>\n",
       "      <th>SPOP</th>\n",
       "      <th>STAT3</th>\n",
       "      <th>STK11</th>\n",
       "      <th>TP53</th>\n",
       "      <th>TP63</th>\n",
       "      <th>U2AF1</th>\n",
       "      <th>VHL</th>\n",
       "      <th>XPO1</th>\n",
       "    </tr>\n",
       "  </thead>\n",
       "  <tbody>\n",
       "    <tr>\n",
       "      <th>03-082H1_LIVER</th>\n",
       "      <td>0.0</td>\n",
       "      <td>0.0</td>\n",
       "      <td>0.0</td>\n",
       "      <td>0.0</td>\n",
       "      <td>0.0</td>\n",
       "      <td>0.0</td>\n",
       "      <td>0.0</td>\n",
       "      <td>0.0</td>\n",
       "      <td>0.0</td>\n",
       "      <td>0.0</td>\n",
       "      <td>...</td>\n",
       "      <td>0.0</td>\n",
       "      <td>0.0</td>\n",
       "      <td>0.0</td>\n",
       "      <td>0.0</td>\n",
       "      <td>0.0</td>\n",
       "      <td>1.0</td>\n",
       "      <td>0.0</td>\n",
       "      <td>0.0</td>\n",
       "      <td>0.0</td>\n",
       "      <td>0.0</td>\n",
       "    </tr>\n",
       "    <tr>\n",
       "      <th>05-116F_LUNG</th>\n",
       "      <td>0.0</td>\n",
       "      <td>0.0</td>\n",
       "      <td>0.0</td>\n",
       "      <td>0.0</td>\n",
       "      <td>0.0</td>\n",
       "      <td>0.0</td>\n",
       "      <td>0.0</td>\n",
       "      <td>0.0</td>\n",
       "      <td>0.0</td>\n",
       "      <td>0.0</td>\n",
       "      <td>...</td>\n",
       "      <td>0.0</td>\n",
       "      <td>0.0</td>\n",
       "      <td>1.0</td>\n",
       "      <td>0.0</td>\n",
       "      <td>0.0</td>\n",
       "      <td>0.0</td>\n",
       "      <td>0.0</td>\n",
       "      <td>0.0</td>\n",
       "      <td>0.0</td>\n",
       "      <td>0.0</td>\n",
       "    </tr>\n",
       "    <tr>\n",
       "      <th>05-148E3_LIVER</th>\n",
       "      <td>0.0</td>\n",
       "      <td>0.0</td>\n",
       "      <td>0.0</td>\n",
       "      <td>0.0</td>\n",
       "      <td>0.0</td>\n",
       "      <td>0.0</td>\n",
       "      <td>0.0</td>\n",
       "      <td>0.0</td>\n",
       "      <td>0.0</td>\n",
       "      <td>1.0</td>\n",
       "      <td>...</td>\n",
       "      <td>0.0</td>\n",
       "      <td>0.0</td>\n",
       "      <td>0.0</td>\n",
       "      <td>0.0</td>\n",
       "      <td>0.0</td>\n",
       "      <td>0.0</td>\n",
       "      <td>0.0</td>\n",
       "      <td>0.0</td>\n",
       "      <td>0.0</td>\n",
       "      <td>0.0</td>\n",
       "    </tr>\n",
       "    <tr>\n",
       "      <th>05-214BB2_BONE</th>\n",
       "      <td>0.0</td>\n",
       "      <td>0.0</td>\n",
       "      <td>0.0</td>\n",
       "      <td>0.0</td>\n",
       "      <td>0.0</td>\n",
       "      <td>0.0</td>\n",
       "      <td>0.0</td>\n",
       "      <td>0.0</td>\n",
       "      <td>0.0</td>\n",
       "      <td>0.0</td>\n",
       "      <td>...</td>\n",
       "      <td>0.0</td>\n",
       "      <td>0.0</td>\n",
       "      <td>0.0</td>\n",
       "      <td>0.0</td>\n",
       "      <td>0.0</td>\n",
       "      <td>1.0</td>\n",
       "      <td>0.0</td>\n",
       "      <td>0.0</td>\n",
       "      <td>0.0</td>\n",
       "      <td>0.0</td>\n",
       "    </tr>\n",
       "    <tr>\n",
       "      <th>07-062F2_LUNG</th>\n",
       "      <td>0.0</td>\n",
       "      <td>0.0</td>\n",
       "      <td>0.0</td>\n",
       "      <td>0.0</td>\n",
       "      <td>0.0</td>\n",
       "      <td>0.0</td>\n",
       "      <td>0.0</td>\n",
       "      <td>0.0</td>\n",
       "      <td>0.0</td>\n",
       "      <td>0.0</td>\n",
       "      <td>...</td>\n",
       "      <td>0.0</td>\n",
       "      <td>0.0</td>\n",
       "      <td>0.0</td>\n",
       "      <td>0.0</td>\n",
       "      <td>0.0</td>\n",
       "      <td>0.0</td>\n",
       "      <td>0.0</td>\n",
       "      <td>0.0</td>\n",
       "      <td>0.0</td>\n",
       "      <td>0.0</td>\n",
       "    </tr>\n",
       "    <tr>\n",
       "      <th>...</th>\n",
       "      <td>...</td>\n",
       "      <td>...</td>\n",
       "      <td>...</td>\n",
       "      <td>...</td>\n",
       "      <td>...</td>\n",
       "      <td>...</td>\n",
       "      <td>...</td>\n",
       "      <td>...</td>\n",
       "      <td>...</td>\n",
       "      <td>...</td>\n",
       "      <td>...</td>\n",
       "      <td>...</td>\n",
       "      <td>...</td>\n",
       "      <td>...</td>\n",
       "      <td>...</td>\n",
       "      <td>...</td>\n",
       "      <td>...</td>\n",
       "      <td>...</td>\n",
       "      <td>...</td>\n",
       "      <td>...</td>\n",
       "      <td>...</td>\n",
       "    </tr>\n",
       "    <tr>\n",
       "      <th>TP_2032</th>\n",
       "      <td>0.0</td>\n",
       "      <td>0.0</td>\n",
       "      <td>0.0</td>\n",
       "      <td>0.0</td>\n",
       "      <td>0.0</td>\n",
       "      <td>0.0</td>\n",
       "      <td>0.0</td>\n",
       "      <td>0.0</td>\n",
       "      <td>1.0</td>\n",
       "      <td>0.0</td>\n",
       "      <td>...</td>\n",
       "      <td>0.0</td>\n",
       "      <td>0.0</td>\n",
       "      <td>0.0</td>\n",
       "      <td>0.0</td>\n",
       "      <td>0.0</td>\n",
       "      <td>0.0</td>\n",
       "      <td>0.0</td>\n",
       "      <td>0.0</td>\n",
       "      <td>0.0</td>\n",
       "      <td>0.0</td>\n",
       "    </tr>\n",
       "    <tr>\n",
       "      <th>TP_2060</th>\n",
       "      <td>0.0</td>\n",
       "      <td>0.0</td>\n",
       "      <td>0.0</td>\n",
       "      <td>0.0</td>\n",
       "      <td>0.0</td>\n",
       "      <td>0.0</td>\n",
       "      <td>0.0</td>\n",
       "      <td>0.0</td>\n",
       "      <td>0.0</td>\n",
       "      <td>0.0</td>\n",
       "      <td>...</td>\n",
       "      <td>0.0</td>\n",
       "      <td>0.0</td>\n",
       "      <td>1.0</td>\n",
       "      <td>0.0</td>\n",
       "      <td>0.0</td>\n",
       "      <td>1.0</td>\n",
       "      <td>0.0</td>\n",
       "      <td>0.0</td>\n",
       "      <td>0.0</td>\n",
       "      <td>0.0</td>\n",
       "    </tr>\n",
       "    <tr>\n",
       "      <th>TP_2064</th>\n",
       "      <td>0.0</td>\n",
       "      <td>0.0</td>\n",
       "      <td>0.0</td>\n",
       "      <td>0.0</td>\n",
       "      <td>0.0</td>\n",
       "      <td>0.0</td>\n",
       "      <td>0.0</td>\n",
       "      <td>0.0</td>\n",
       "      <td>0.0</td>\n",
       "      <td>0.0</td>\n",
       "      <td>...</td>\n",
       "      <td>0.0</td>\n",
       "      <td>0.0</td>\n",
       "      <td>0.0</td>\n",
       "      <td>0.0</td>\n",
       "      <td>0.0</td>\n",
       "      <td>1.0</td>\n",
       "      <td>0.0</td>\n",
       "      <td>0.0</td>\n",
       "      <td>0.0</td>\n",
       "      <td>0.0</td>\n",
       "    </tr>\n",
       "    <tr>\n",
       "      <th>TP_2078</th>\n",
       "      <td>0.0</td>\n",
       "      <td>0.0</td>\n",
       "      <td>0.0</td>\n",
       "      <td>0.0</td>\n",
       "      <td>0.0</td>\n",
       "      <td>0.0</td>\n",
       "      <td>0.0</td>\n",
       "      <td>0.0</td>\n",
       "      <td>0.0</td>\n",
       "      <td>0.0</td>\n",
       "      <td>...</td>\n",
       "      <td>0.0</td>\n",
       "      <td>0.0</td>\n",
       "      <td>0.0</td>\n",
       "      <td>0.0</td>\n",
       "      <td>0.0</td>\n",
       "      <td>0.0</td>\n",
       "      <td>0.0</td>\n",
       "      <td>0.0</td>\n",
       "      <td>0.0</td>\n",
       "      <td>0.0</td>\n",
       "    </tr>\n",
       "    <tr>\n",
       "      <th>TP_2079</th>\n",
       "      <td>0.0</td>\n",
       "      <td>0.0</td>\n",
       "      <td>0.0</td>\n",
       "      <td>0.0</td>\n",
       "      <td>0.0</td>\n",
       "      <td>0.0</td>\n",
       "      <td>0.0</td>\n",
       "      <td>0.0</td>\n",
       "      <td>0.0</td>\n",
       "      <td>0.0</td>\n",
       "      <td>...</td>\n",
       "      <td>0.0</td>\n",
       "      <td>0.0</td>\n",
       "      <td>0.0</td>\n",
       "      <td>0.0</td>\n",
       "      <td>0.0</td>\n",
       "      <td>1.0</td>\n",
       "      <td>0.0</td>\n",
       "      <td>0.0</td>\n",
       "      <td>0.0</td>\n",
       "      <td>0.0</td>\n",
       "    </tr>\n",
       "  </tbody>\n",
       "</table>\n",
       "<p>364 rows × 54 columns</p>\n",
       "</div>"
      ],
      "text/plain": [
       "                AKT1  ANKRD11  ARID1A  ATM  BRAF  CARD11  CDKN1B  CDKN2A  CIC  \\\n",
       "03-082H1_LIVER   0.0      0.0     0.0  0.0   0.0     0.0     0.0     0.0  0.0   \n",
       "05-116F_LUNG     0.0      0.0     0.0  0.0   0.0     0.0     0.0     0.0  0.0   \n",
       "05-148E3_LIVER   0.0      0.0     0.0  0.0   0.0     0.0     0.0     0.0  0.0   \n",
       "05-214BB2_BONE   0.0      0.0     0.0  0.0   0.0     0.0     0.0     0.0  0.0   \n",
       "07-062F2_LUNG    0.0      0.0     0.0  0.0   0.0     0.0     0.0     0.0  0.0   \n",
       "...              ...      ...     ...  ...   ...     ...     ...     ...  ...   \n",
       "TP_2032          0.0      0.0     0.0  0.0   0.0     0.0     0.0     0.0  1.0   \n",
       "TP_2060          0.0      0.0     0.0  0.0   0.0     0.0     0.0     0.0  0.0   \n",
       "TP_2064          0.0      0.0     0.0  0.0   0.0     0.0     0.0     0.0  0.0   \n",
       "TP_2078          0.0      0.0     0.0  0.0   0.0     0.0     0.0     0.0  0.0   \n",
       "TP_2079          0.0      0.0     0.0  0.0   0.0     0.0     0.0     0.0  0.0   \n",
       "\n",
       "                CTNNB1  ...  SF3B1  SMAD4  SPOP  STAT3  STK11  TP53  TP63  \\\n",
       "03-082H1_LIVER     0.0  ...    0.0    0.0   0.0    0.0    0.0   1.0   0.0   \n",
       "05-116F_LUNG       0.0  ...    0.0    0.0   1.0    0.0    0.0   0.0   0.0   \n",
       "05-148E3_LIVER     1.0  ...    0.0    0.0   0.0    0.0    0.0   0.0   0.0   \n",
       "05-214BB2_BONE     0.0  ...    0.0    0.0   0.0    0.0    0.0   1.0   0.0   \n",
       "07-062F2_LUNG      0.0  ...    0.0    0.0   0.0    0.0    0.0   0.0   0.0   \n",
       "...                ...  ...    ...    ...   ...    ...    ...   ...   ...   \n",
       "TP_2032            0.0  ...    0.0    0.0   0.0    0.0    0.0   0.0   0.0   \n",
       "TP_2060            0.0  ...    0.0    0.0   1.0    0.0    0.0   1.0   0.0   \n",
       "TP_2064            0.0  ...    0.0    0.0   0.0    0.0    0.0   1.0   0.0   \n",
       "TP_2078            0.0  ...    0.0    0.0   0.0    0.0    0.0   0.0   0.0   \n",
       "TP_2079            0.0  ...    0.0    0.0   0.0    0.0    0.0   1.0   0.0   \n",
       "\n",
       "                U2AF1  VHL  XPO1  \n",
       "03-082H1_LIVER    0.0  0.0   0.0  \n",
       "05-116F_LUNG      0.0  0.0   0.0  \n",
       "05-148E3_LIVER    0.0  0.0   0.0  \n",
       "05-214BB2_BONE    0.0  0.0   0.0  \n",
       "07-062F2_LUNG     0.0  0.0   0.0  \n",
       "...               ...  ...   ...  \n",
       "TP_2032           0.0  0.0   0.0  \n",
       "TP_2060           0.0  0.0   0.0  \n",
       "TP_2064           0.0  0.0   0.0  \n",
       "TP_2078           0.0  0.0   0.0  \n",
       "TP_2079           0.0  0.0   0.0  \n",
       "\n",
       "[364 rows x 54 columns]"
      ]
     },
     "execution_count": 15,
     "metadata": {},
     "output_type": "execute_result"
    }
   ],
   "source": [
    "x"
   ]
  },
  {
   "cell_type": "code",
   "execution_count": 3,
   "id": "e6346a18",
   "metadata": {},
   "outputs": [
    {
     "data": {
      "text/plain": [
       "(364,)"
      ]
     },
     "execution_count": 3,
     "metadata": {},
     "output_type": "execute_result"
    }
   ],
   "source": [
    "response.shape"
   ]
  },
  {
   "cell_type": "code",
   "execution_count": 4,
   "id": "aa083d64",
   "metadata": {
    "scrolled": true
   },
   "outputs": [
    {
     "name": "stdout",
     "output_type": "stream",
     "text": [
      "Metal device set to: Apple M1 Pro\n"
     ]
    },
    {
     "name": "stderr",
     "output_type": "stream",
     "text": [
      "2022-05-04 01:52:06.476137: I tensorflow/core/common_runtime/pluggable_device/pluggable_device_factory.cc:305] Could not identify NUMA node of platform GPU ID 0, defaulting to 0. Your kernel may not have been built with NUMA support.\n",
      "2022-05-04 01:52:06.476469: I tensorflow/core/common_runtime/pluggable_device/pluggable_device_factory.cc:271] Created TensorFlow device (/job:localhost/replica:0/task:0/device:GPU:0 with 0 MB memory) -> physical PluggableDevice (device: 0, name: METAL, pci bus id: <undefined>)\n"
     ]
    },
    {
     "name": "stdout",
     "output_type": "stream",
     "text": [
      "layer # 0\n",
      "pathways 1387\n",
      "genes 9275\n",
      "filtered_map (54, 0)\n",
      "filtered_map (54, 0)\n",
      "filtered_map (54, 0)\n",
      "layer # 1\n",
      "pathways 1066\n",
      "genes 1399\n",
      "filtered_map (1387, 0)\n",
      "filtered_map (1387, 0)\n",
      "filtered_map (1387, 0)\n",
      "layer # 2\n",
      "pathways 447\n",
      "genes 1068\n",
      "filtered_map (1066, 0)\n",
      "filtered_map (1066, 0)\n",
      "filtered_map (1066, 0)\n",
      "layer # 3\n",
      "pathways 147\n",
      "genes 448\n",
      "filtered_map (447, 0)\n",
      "filtered_map (447, 0)\n",
      "filtered_map (447, 0)\n",
      "layer # 4\n",
      "pathways 26\n",
      "genes 147\n",
      "filtered_map (147, 0)\n",
      "filtered_map (147, 0)\n",
      "filtered_map (147, 0)\n",
      "layer # 5\n",
      "pathways 1\n",
      "genes 26\n",
      "filtered_map (26, 0)\n",
      "filtered_map (26, 0)\n",
      "filtered_map (26, 0)\n"
     ]
    }
   ],
   "source": [
    "pnet = PNet(cols, cols, 'root_to_leaf', 'tanh', 'sigmoid', 0, True, False, 'lecun_uniform')"
   ]
  },
  {
   "cell_type": "code",
   "execution_count": 10,
   "id": "4be8d3a0",
   "metadata": {},
   "outputs": [
    {
     "name": "stdout",
     "output_type": "stream",
     "text": [
      "input dimensions (364, 54)\n"
     ]
    }
   ],
   "source": [
    "_, decision_outcome = pnet(tf.convert_to_tensor(x))"
   ]
  },
  {
   "cell_type": "code",
   "execution_count": 13,
   "id": "038d5b0b",
   "metadata": {
    "scrolled": false
   },
   "outputs": [
    {
     "data": {
      "text/plain": [
       "6"
      ]
     },
     "execution_count": 13,
     "metadata": {},
     "output_type": "execute_result"
    }
   ],
   "source": [
    "len(decision_outcome)"
   ]
  },
  {
   "cell_type": "code",
   "execution_count": 14,
   "id": "a0d98d2f",
   "metadata": {},
   "outputs": [
    {
     "data": {
      "text/plain": [
       "TensorShape([364, 1])"
      ]
     },
     "execution_count": 14,
     "metadata": {},
     "output_type": "execute_result"
    }
   ],
   "source": [
    "decision_outcome[0].shape"
   ]
  },
  {
   "cell_type": "code",
   "execution_count": 8,
   "id": "6d6dff33",
   "metadata": {},
   "outputs": [
    {
     "name": "stderr",
     "output_type": "stream",
     "text": [
      "100%|████████████████████████████████████████████| 6/6 [00:00<00:00, 160.65it/s]\n"
     ]
    }
   ],
   "source": [
    "a = pnet.loss(decision_outcome, response)"
   ]
  },
  {
   "cell_type": "code",
   "execution_count": 9,
   "id": "273e5c8c",
   "metadata": {},
   "outputs": [
    {
     "data": {
      "text/plain": [
       "<tf.Tensor: shape=(), dtype=float32, numpy=441.278>"
      ]
     },
     "execution_count": 9,
     "metadata": {},
     "output_type": "execute_result"
    }
   ],
   "source": [
    "a"
   ]
  }
 ],
 "metadata": {
  "kernelspec": {
   "display_name": "Python 3 (ipykernel)",
   "language": "python",
   "name": "python3"
  },
  "language_info": {
   "codemirror_mode": {
    "name": "ipython",
    "version": 3
   },
   "file_extension": ".py",
   "mimetype": "text/x-python",
   "name": "python",
   "nbconvert_exporter": "python",
   "pygments_lexer": "ipython3",
   "version": "3.9.10"
  }
 },
 "nbformat": 4,
 "nbformat_minor": 5
}
